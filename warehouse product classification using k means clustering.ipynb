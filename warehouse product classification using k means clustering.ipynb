{
 "cells": [
  {
   "cell_type": "code",
   "execution_count": 1,
   "id": "0ddaff6f",
   "metadata": {},
   "outputs": [],
   "source": [
    "import pandas as pd\n",
    "from sklearn.preprocessing import StandardScaler\n",
    "from sklearn.cluster import KMeans\n",
    "import matplotlib.pyplot as plt"
   ]
  },
  {
   "cell_type": "code",
   "execution_count": 3,
   "id": "6d67edac",
   "metadata": {},
   "outputs": [],
   "source": [
    "# Read the original data\n",
    "df = pd.read_excel('C:\\\\Users\\\\GHAGHRE\\\\Desktop\\\\warehouse_data.xlsx')"
   ]
  },
  {
   "cell_type": "code",
   "execution_count": 4,
   "id": "13ce396f",
   "metadata": {},
   "outputs": [
    {
     "data": {
      "text/html": [
       "<div>\n",
       "<style scoped>\n",
       "    .dataframe tbody tr th:only-of-type {\n",
       "        vertical-align: middle;\n",
       "    }\n",
       "\n",
       "    .dataframe tbody tr th {\n",
       "        vertical-align: top;\n",
       "    }\n",
       "\n",
       "    .dataframe thead th {\n",
       "        text-align: right;\n",
       "    }\n",
       "</style>\n",
       "<table border=\"1\" class=\"dataframe\">\n",
       "  <thead>\n",
       "    <tr style=\"text-align: right;\">\n",
       "      <th></th>\n",
       "      <th>Product Family</th>\n",
       "      <th>Sum of count of orders</th>\n",
       "      <th>Avg product weight in Kg</th>\n",
       "    </tr>\n",
       "  </thead>\n",
       "  <tbody>\n",
       "    <tr>\n",
       "      <th>0</th>\n",
       "      <td>agro industry and commerce</td>\n",
       "      <td>212</td>\n",
       "      <td>5.263405</td>\n",
       "    </tr>\n",
       "    <tr>\n",
       "      <th>1</th>\n",
       "      <td>foods</td>\n",
       "      <td>510</td>\n",
       "      <td>0.923415</td>\n",
       "    </tr>\n",
       "    <tr>\n",
       "      <th>2</th>\n",
       "      <td>food drinks</td>\n",
       "      <td>278</td>\n",
       "      <td>1.307933</td>\n",
       "    </tr>\n",
       "    <tr>\n",
       "      <th>3</th>\n",
       "      <td>Arts</td>\n",
       "      <td>209</td>\n",
       "      <td>1.691764</td>\n",
       "    </tr>\n",
       "    <tr>\n",
       "      <th>4</th>\n",
       "      <td>arts and crafts</td>\n",
       "      <td>24</td>\n",
       "      <td>1.164579</td>\n",
       "    </tr>\n",
       "  </tbody>\n",
       "</table>\n",
       "</div>"
      ],
      "text/plain": [
       "               Product Family  Sum of count of orders  \\\n",
       "0  agro industry and commerce                     212   \n",
       "1                       foods                     510   \n",
       "2                 food drinks                     278   \n",
       "3                        Arts                     209   \n",
       "4             arts and crafts                      24   \n",
       "\n",
       "   Avg product weight in Kg  \n",
       "0                  5.263405  \n",
       "1                  0.923415  \n",
       "2                  1.307933  \n",
       "3                  1.691764  \n",
       "4                  1.164579  "
      ]
     },
     "execution_count": 4,
     "metadata": {},
     "output_type": "execute_result"
    }
   ],
   "source": [
    "df.head()"
   ]
  },
  {
   "cell_type": "code",
   "execution_count": 5,
   "id": "9b9cdfca",
   "metadata": {},
   "outputs": [
    {
     "data": {
      "text/plain": [
       "(73, 3)"
      ]
     },
     "execution_count": 5,
     "metadata": {},
     "output_type": "execute_result"
    }
   ],
   "source": [
    "df.shape"
   ]
  },
  {
   "cell_type": "code",
   "execution_count": 6,
   "id": "26e59ad8",
   "metadata": {},
   "outputs": [],
   "source": [
    "# Step 2: Standardize the Data\n",
    "features = df[['Sum of count of orders', 'Avg product weight in Kg']]\n",
    "scaler = StandardScaler()\n",
    "scaled_features = scaler.fit_transform(features)"
   ]
  },
  {
   "cell_type": "code",
   "execution_count": 9,
   "id": "c4075817",
   "metadata": {},
   "outputs": [
    {
     "name": "stderr",
     "output_type": "stream",
     "text": [
      "C:\\Users\\GHAGHRE\\anaconda3\\lib\\site-packages\\sklearn\\cluster\\_kmeans.py:1036: UserWarning: KMeans is known to have a memory leak on Windows with MKL, when there are less chunks than available threads. You can avoid it by setting the environment variable OMP_NUM_THREADS=1.\n",
      "  warnings.warn(\n"
     ]
    },
    {
     "data": {
      "image/png": "[encoded data removed]",
      "text/plain": [
       "<Figure size 432x288 with 1 Axes>"
      ]
     },
     "metadata": {
      "needs_background": "light"
     },
     "output_type": "display_data"
    }
   ],
   "source": [
    "# Step 3: Choose the Number of Clusters\n",
    "wcss = []\n",
    "for i in range(1, 11):\n",
    "    kmeans = KMeans(n_clusters=i, random_state=42)\n",
    "    kmeans.fit(scaled_features)\n",
    "    wcss.append(kmeans.inertia_)\n",
    "plt.plot(range(1, 11), wcss, marker='o')\n",
    "plt.title('Elbow Method')\n",
    "plt.xlabel('Number of Clusters')\n",
    "plt.ylabel('WCSS')\n",
    "plt.show()"
   ]
  },
  {
   "cell_type": "code",
   "execution_count": 10,
   "id": "aed41086",
   "metadata": {},
   "outputs": [],
   "source": [
    "# Step 4: Apply K-Means Clustering (assuming 3 clusters based on the elbow plot)\n",
    "kmeans = KMeans(n_clusters=3, random_state=42)\n",
    "df['Cluster'] = kmeans.fit_predict(scaled_features)\n"
   ]
  },
  {
   "cell_type": "code",
   "execution_count": 11,
   "id": "4762c56e",
   "metadata": {
    "scrolled": true
   },
   "outputs": [
    {
     "name": "stdout",
     "output_type": "stream",
     "text": [
      "                Product Family  Sum of count of orders  \\\n",
      "0   agro industry and commerce                     212   \n",
      "1                        foods                     510   \n",
      "2                  food drinks                     278   \n",
      "3                         Arts                     209   \n",
      "4              arts and crafts                      24   \n",
      "..                         ...                     ...   \n",
      "68   sinalizacao and seguranca                     199   \n",
      "69   printed tablets or imagem                      83   \n",
      "70                   telephony                    4545   \n",
      "71             fixed telephone                     264   \n",
      "72          domestic utilities                    6964   \n",
      "\n",
      "    Avg product weight in Kg  Cluster  \n",
      "0                   5.263405        0  \n",
      "1                   0.923415        0  \n",
      "2                   1.307933        0  \n",
      "3                   1.691764        0  \n",
      "4                   1.164579        0  \n",
      "..                       ...      ...  \n",
      "68                  2.969817        0  \n",
      "69                  0.381444        0  \n",
      "70                  0.236506        1  \n",
      "71                  0.660828        0  \n",
      "72                  3.020794        1  \n",
      "\n",
      "[73 rows x 4 columns]\n"
     ]
    }
   ],
   "source": [
    "# Step 5: Interpret the Results\n",
    "print(df)"
   ]
  },
  {
   "cell_type": "code",
   "execution_count": 12,
   "id": "03818552",
   "metadata": {},
   "outputs": [
    {
     "data": {
      "image/png": "[encoded data removed]",
      "text/plain": [
       "<Figure size 432x288 with 1 Axes>"
      ]
     },
     "metadata": {
      "needs_background": "light"
     },
     "output_type": "display_data"
    }
   ],
   "source": [
    "# Optionally, visualize the clusters\n",
    "plt.scatter(df['Sum of count of orders'], df['Avg product weight in Kg'], c=df['Cluster'], cmap='viridis')\n",
    "plt.title('K-Means Clustering')\n",
    "plt.xlabel('Sum of count of orders')\n",
    "plt.ylabel('Avg product weight in Kg')\n",
    "plt.show()"
   ]
  },
  {
   "cell_type": "code",
   "execution_count": 14,
   "id": "2832751f",
   "metadata": {
    "scrolled": false
   },
   "outputs": [
    {
     "name": "stdout",
     "output_type": "stream",
     "text": [
      "Classified Products:\n",
      "                 Product Family  Cluster\n",
      "0   agro industry and commerce        0\n",
      "1                        foods        0\n",
      "2                  food drinks        0\n",
      "3                         Arts        0\n",
      "4              arts and crafts        0\n",
      "..                         ...      ...\n",
      "68   sinalizacao and seguranca        0\n",
      "69   printed tablets or imagem        0\n",
      "70                   telephony        1\n",
      "71             fixed telephone        0\n",
      "72          domestic utilities        1\n",
      "\n",
      "[73 rows x 2 columns]\n",
      "\n",
      "Cluster Counts:\n",
      " 0    54\n",
      "1    12\n",
      "2     7\n",
      "Name: Cluster, dtype: int64\n"
     ]
    }
   ],
   "source": [
    "# Step 5: Display the classified products in a tabular form\n",
    "classification = df[['Product Family', 'Cluster']]\n",
    "\n",
    "# Step 6: Count the number of products in each cluster\n",
    "cluster_counts = classification['Cluster'].value_counts().sort_index()\n",
    "\n",
    "# Print the results\n",
    "print(\"Classified Products:\\n\", classification)\n",
    "print(\"\\nCluster Counts:\\n\", cluster_counts)\n"
   ]
  },
  {
   "cell_type": "code",
   "execution_count": null,
   "id": "e5fcf03a",
   "metadata": {},
   "outputs": [],
   "source": []
  }
 ],
 "metadata": {
  "kernelspec": {
   "display_name": "Python 3 (ipykernel)",
   "language": "python",
   "name": "python3"
  },
  "language_info": {
   "codemirror_mode": {
    "name": "ipython",
    "version": 3
   },
   "file_extension": ".py",
   "mimetype": "text/x-python",
   "name": "python",
   "nbconvert_exporter": "python",
   "pygments_lexer": "ipython3",
   "version": "3.9.12"
  }
 },
 "nbformat": 4,
 "nbformat_minor": 5
}
